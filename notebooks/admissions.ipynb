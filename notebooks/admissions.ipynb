{
 "metadata": {
  "name": "",
  "signature": "sha256:8e8778c156cfea9a4f33efbe466a6d08ecf06e63fd493e64f90352a77274eee9"
 },
 "nbformat": 3,
 "nbformat_minor": 0,
 "worksheets": [
  {
   "cells": [
    {
     "cell_type": "code",
     "collapsed": false,
     "input": [
      "from tx_highered.models.base import Institution, System\n",
      "from tx_highered.models.reports import Admissions, Enrollment, GraduationRates, PriceTrends, TestScores\n",
      "from tx_highered.models.thecb import PublicAdmissions, PublicEnrollment, PublicGraduationRates\n"
     ],
     "language": "python",
     "metadata": {},
     "outputs": [],
     "prompt_number": 1
    },
    {
     "cell_type": "code",
     "collapsed": false,
     "input": [
      "# Double check existing `percent_of_applicants_admitted`\n",
      "for x in Admissions.objects.filter(percent_of_applicants_admitted__isnull=False, number_of_applicants__gt=0, number_admitted__gt=0):\n",
      "    print x.percent_of_applicants_admitted, x.number_admitted * 1000 / x.number_of_applicants / 10.0\n"
     ],
     "language": "python",
     "metadata": {},
     "outputs": []
    },
    {
     "cell_type": "code",
     "collapsed": false,
     "input": [
      "# Backfill missing `percent_of_applicants_admitted`\n",
      "for x in Admissions.objects.filter(percent_of_applicants_admitted=None, number_of_applicants__gt=0, number_admitted__gt=0):\n",
      "    x.percent_of_applicants_admitted = x.number_admitted * 1000 / x.number_of_applicants / 10.0\n",
      "    x.save()"
     ],
     "language": "python",
     "metadata": {},
     "outputs": []
    },
    {
     "cell_type": "code",
     "collapsed": false,
     "input": [
      "# Double check existing `percent_of_admitted_who_enrolled`\n",
      "for x in Admissions.objects.filter(percent_of_admitted_who_enrolled__isnull=False, number_admitted_who_enrolled__gt=0, number_admitted__gt=0):\n",
      "    print x.percent_of_admitted_who_enrolled, x.number_admitted_who_enrolled * 1000 / x.number_admitted / 10.0\n"
     ],
     "language": "python",
     "metadata": {},
     "outputs": []
    },
    {
     "cell_type": "code",
     "collapsed": false,
     "input": [
      "# Backfill missing `percent_of_admitted_who_enrolled`\n",
      "for x in Admissions.objects.filter(percent_of_admitted_who_enrolled__isnull=True, number_admitted_who_enrolled__gt=0, number_admitted__gt=0):\n",
      "    x.percent_of_admitted_who_enrolled = x.number_admitted_who_enrolled * 1000 / x.number_admitted / 10.0\n",
      "    x.save()"
     ],
     "language": "python",
     "metadata": {},
     "outputs": [],
     "prompt_number": 4
    },
    {
     "cell_type": "code",
     "collapsed": false,
     "input": [],
     "language": "python",
     "metadata": {},
     "outputs": []
    }
   ],
   "metadata": {}
  }
 ]
}